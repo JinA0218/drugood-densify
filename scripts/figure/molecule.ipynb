{
 "cells": [
  {
   "cell_type": "code",
   "execution_count": 3,
   "id": "fa624724",
   "metadata": {},
   "outputs": [
    {
     "name": "stdout",
     "output_type": "stream",
     "text": [
      "Collecting rdkit\n",
      "  Downloading rdkit-2025.3.2-cp39-cp39-manylinux_2_28_x86_64.whl.metadata (4.0 kB)\n",
      "Requirement already satisfied: numpy in /c2/jinakim/miniconda3/envs/drug/lib/python3.9/site-packages (from rdkit) (1.26.4)\n",
      "Requirement already satisfied: Pillow in /c2/jinakim/miniconda3/envs/drug/lib/python3.9/site-packages (from rdkit) (11.2.1)\n",
      "Downloading rdkit-2025.3.2-cp39-cp39-manylinux_2_28_x86_64.whl (35.2 MB)\n",
      "\u001b[2K   \u001b[90m━━━━━━━━━━━━━━━━━━━━━━━━━━━━━━━━━━━━━━━━\u001b[0m \u001b[32m35.2/35.2 MB\u001b[0m \u001b[31m28.3 MB/s\u001b[0m eta \u001b[36m0:00:00\u001b[0m00:01\u001b[0m00:01\u001b[0m\n",
      "\u001b[?25hInstalling collected packages: rdkit\n",
      "Successfully installed rdkit-2025.3.2\n",
      "\u001b[33mWARNING: There was an error checking the latest version of pip.\u001b[0m\u001b[33m\n",
      "\u001b[0m"
     ]
    }
   ],
   "source": [
    "!pip install rdkit"
   ]
  },
  {
   "cell_type": "code",
   "execution_count": null,
   "id": "c6759f1c",
   "metadata": {},
   "outputs": [
    {
     "name": "stdout",
     "output_type": "stream",
     "text": [
      "The history saving thread hit an unexpected error (OperationalError('disk I/O error')).History will not be written to the database.\n"
     ]
    }
   ],
   "source": [
    "from rdkit import Chem\n",
    "from rdkit.Chem import Draw\n",
    "from PIL import Image, ImageDraw, ImageFont\n",
    "# Define SMILES and regions\n",
    "molecules_data = [\n",
    "    {\"smiles\": \"CC(=O)OC1=CC=CC=C1C(=O)O\", \"region\": \"blue\", \"logP\": 1.2, \"toxicity\": \"low\"},\n",
    "    {\"smiles\": \"C1=CC=C(C=C1)C=O\", \"region\": \"blue\", \"logP\": 2.5, \"toxicity\": \"medium\"},\n",
    "    {\"smiles\": \"CCN(CC)CC\", \"region\": \"green\", \"logP\": 0.8, \"toxicity\": \"high\"},\n",
    "    {\"smiles\": \"CC(C)CC1=CC=C(C=C1)C(C)C(=O)O\", \"region\": \"green\", \"logP\": 3.1, \"toxicity\": \"low\"},\n",
    "    {\"smiles\": \"CN1CCCC1C2=CC=CC=C2\", \"region\": \"yellow\", \"logP\": 2.0, \"toxicity\": \"medium\"},\n",
    "    {\"smiles\": \"CC(C)NCC(O)COc1ccccc1\", \"region\": \"yellow\", \"logP\": 1.7, \"toxicity\": \"low\"},\n",
    "    {\"smiles\": \"CCOC(=O)C1=CC=CC=C1Cl\", \"region\": \"yellow\", \"logP\": 4.2, \"toxicity\": \"high\"},\n",
    "]\n",
    "# Use default font for annotations\n",
    "font = ImageFont.load_default()\n",
    "# Create a blank canvas\n",
    "canvas_width = 1000\n",
    "canvas_height = 600\n",
    "canvas = Image.new(\"RGB\", (canvas_width, canvas_height), \"white\")\n",
    "draw = ImageDraw.Draw(canvas)\n",
    "# Define top-left anchors for regions\n",
    "regions = {\n",
    "    \"blue\": (50, 50),\n",
    "    \"green\": (400, 50),\n",
    "    \"yellow\": (700, 300)\n",
    "}\n",
    "# Offset tracking for placement\n",
    "offsets = {\"blue\": 0, \"green\": 0, \"yellow\": 0}\n",
    "for i, mol_info in enumerate(molecules_data):\n",
    "    mol = Chem.MolFromSmiles(mol_info[\"smiles\"])\n",
    "    img = Draw.MolToImage(mol, size=(150, 150))\n",
    "    img_editable = ImageDraw.Draw(img)\n",
    "    # Add property text\n",
    "    text = f\"logP: {mol_info['logP']}\\nTox: {mol_info['toxicity']}\"\n",
    "    img_editable.text((5, 130), text, fill=(0, 0, 0), font=font)\n",
    "    # Determine image position\n",
    "    x0, y0 = regions[mol_info[\"region\"]]\n",
    "    x_offset = x0 + (offsets[mol_info[\"region\"]] % 2) * 160\n",
    "    y_offset = y0 + (offsets[mol_info[\"region\"]] // 2) * 180\n",
    "    canvas.paste(img, (x_offset, y_offset))\n",
    "    offsets[mol_info[\"region\"]] += 1\n",
    "canvas.save(\"molecule_regions.pdf\", \"PDF\")\n"
   ]
  }
 ],
 "metadata": {
  "kernelspec": {
   "display_name": "drug",
   "language": "python",
   "name": "python3"
  },
  "language_info": {
   "codemirror_mode": {
    "name": "ipython",
    "version": 3
   },
   "file_extension": ".py",
   "mimetype": "text/x-python",
   "name": "python",
   "nbconvert_exporter": "python",
   "pygments_lexer": "ipython3",
   "version": "3.9.21"
  }
 },
 "nbformat": 4,
 "nbformat_minor": 5
}

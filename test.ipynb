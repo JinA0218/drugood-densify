{
 "cells": [
  {
   "cell_type": "code",
   "execution_count": 1,
   "metadata": {},
   "outputs": [],
   "source": [
    "import torch\n",
    "t_x = torch.load('t_x.pt')\n",
    "t_y = torch.load('t_y.pt')\n",
    "tc_x = torch.load('tc_x.pt')\n",
    "tc_y = torch.load('tc_y.pt')\n",
    "tc_x_c = torch.load('tc_x_c.pt')\n",
    "tc_y_c = torch.load('tc_y_c.pt')\n",
    "\n",
    "c_x = torch.load('c_x.pt')\n",
    "c_y = torch.load('c_y.pt')\n",
    "c_x_c = torch.load('c_x_c.pt')\n",
    "c_y_c = torch.load('c_y_c.pt')"
   ]
  },
  {
   "cell_type": "code",
   "execution_count": 5,
   "metadata": {},
   "outputs": [
    {
     "name": "stdout",
     "output_type": "stream",
     "text": [
      "tensor(0)\n",
      "tensor(0)\n"
     ]
    }
   ],
   "source": [
    "print(sum(sum(t_x != tc_x)))\n",
    "print(sum(sum(t_x != c_x)))\n",
    "print(sum(sum(t_x != c_x)))"
   ]
  },
  {
   "cell_type": "code",
   "execution_count": 8,
   "metadata": {},
   "outputs": [
    {
     "name": "stdout",
     "output_type": "stream",
     "text": [
      "tensor(0)\n",
      "tensor(0)\n"
     ]
    }
   ],
   "source": [
    "print(sum(sum(sum(tc_x_c != c_x_c))))\n",
    "print(sum(tc_y_c != c_y_c))\n"
   ]
  },
  {
   "cell_type": "code",
   "execution_count": 2,
   "metadata": {},
   "outputs": [
    {
     "data": {
      "text/plain": [
       "torch.Size([64])"
      ]
     },
     "execution_count": 2,
     "metadata": {},
     "output_type": "execute_result"
    }
   ],
   "source": [
    "import torch\n",
    "a = torch.zeros(64)\n",
    "a.shape"
   ]
  },
  {
   "cell_type": "code",
   "execution_count": 4,
   "metadata": {},
   "outputs": [
    {
     "data": {
      "text/plain": [
       "torch.Size([64])"
      ]
     },
     "execution_count": 4,
     "metadata": {},
     "output_type": "execute_result"
    }
   ],
   "source": [
    "b = torch.randn_like(a)\n",
    "b.shape"
   ]
  },
  {
   "cell_type": "code",
   "execution_count": 5,
   "metadata": {},
   "outputs": [
    {
     "name": "stdout",
     "output_type": "stream",
     "text": [
      "tensor([0., 0., 0., 0., 0., 0., 0., 0., 0., 0., 0., 0., 0., 0., 0., 0., 0., 0., 0., 0., 0., 0., 0., 0.,\n",
      "        0., 0., 0., 0., 0., 0., 0., 0., 0., 0., 0., 0., 0., 0., 0., 0., 0., 0., 0., 0., 0., 0., 0., 0.,\n",
      "        0., 0., 0., 0., 0., 0., 0., 0., 0., 0., 0., 0., 0., 0., 0., 0.])\n",
      "tensor([-0.3043, -2.1447, -1.1967,  0.7391,  0.7264,  0.5041, -1.2047,  0.6625,\n",
      "        -0.3562,  0.1752,  0.0871,  0.4264,  0.9520,  0.6829, -0.5091, -0.3639,\n",
      "        -1.3440,  0.5079,  1.2949, -0.6385,  0.0190, -0.0436,  0.2779, -1.2750,\n",
      "         0.6649, -0.1118,  0.6051, -0.2045, -0.4577, -0.8367, -0.4609, -0.4089,\n",
      "         0.6962,  0.1048, -1.7655, -0.3523,  0.2588, -0.8018, -0.7126,  0.7609,\n",
      "        -0.2996,  0.9647,  0.2689,  0.1446,  0.9836,  1.3639, -0.6004, -0.5240,\n",
      "         0.0595, -1.0670,  0.2078,  1.4743,  0.1996,  0.7375,  0.1414, -0.9752,\n",
      "         0.8617, -0.1410,  0.0247, -0.2302,  0.2140, -0.3705, -2.2080,  0.9017])\n"
     ]
    }
   ],
   "source": [
    "print(a)\n",
    "print(b)"
   ]
  },
  {
   "cell_type": "code",
   "execution_count": null,
   "metadata": {},
   "outputs": [],
   "source": []
  }
 ],
 "metadata": {
  "kernelspec": {
   "display_name": "drug",
   "language": "python",
   "name": "python3"
  },
  "language_info": {
   "codemirror_mode": {
    "name": "ipython",
    "version": 3
   },
   "file_extension": ".py",
   "mimetype": "text/x-python",
   "name": "python",
   "nbconvert_exporter": "python",
   "pygments_lexer": "ipython3",
   "version": "3.9.21"
  }
 },
 "nbformat": 4,
 "nbformat_minor": 2
}

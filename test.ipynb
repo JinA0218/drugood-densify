{
 "cells": [
  {
   "cell_type": "code",
   "execution_count": 1,
   "metadata": {},
   "outputs": [],
   "source": [
    "import torch\n",
    "t_x = torch.load('t_x.pt')\n",
    "t_y = torch.load('t_y.pt')\n",
    "tc_x = torch.load('tc_x.pt')\n",
    "tc_y = torch.load('tc_y.pt')\n",
    "tc_x_c = torch.load('tc_x_c.pt')\n",
    "tc_y_c = torch.load('tc_y_c.pt')\n",
    "\n",
    "c_x = torch.load('c_x.pt')\n",
    "c_y = torch.load('c_y.pt')\n",
    "c_x_c = torch.load('c_x_c.pt')\n",
    "c_y_c = torch.load('c_y_c.pt')"
   ]
  },
  {
   "cell_type": "code",
   "execution_count": 5,
   "metadata": {},
   "outputs": [
    {
     "name": "stdout",
     "output_type": "stream",
     "text": [
      "tensor(0)\n",
      "tensor(0)\n"
     ]
    }
   ],
   "source": [
    "print(sum(sum(t_x != tc_x)))\n",
    "print(sum(sum(t_x != c_x)))\n",
    "print(sum(sum(t_x != c_x)))"
   ]
  },
  {
   "cell_type": "code",
   "execution_count": 8,
   "metadata": {},
   "outputs": [
    {
     "name": "stdout",
     "output_type": "stream",
     "text": [
      "tensor(0)\n",
      "tensor(0)\n"
     ]
    }
   ],
   "source": [
    "print(sum(sum(sum(tc_x_c != c_x_c))))\n",
    "print(sum(tc_y_c != c_y_c))\n"
   ]
  },
  {
   "cell_type": "code",
   "execution_count": 2,
   "metadata": {},
   "outputs": [
    {
     "data": {
      "text/plain": [
       "torch.Size([64])"
      ]
     },
     "execution_count": 2,
     "metadata": {},
     "output_type": "execute_result"
    }
   ],
   "source": [
    "import torch\n",
    "a = torch.zeros(64)\n",
    "a.shape"
   ]
  },
  {
   "cell_type": "code",
   "execution_count": 4,
   "metadata": {},
   "outputs": [
    {
     "data": {
      "text/plain": [
       "torch.Size([64])"
      ]
     },
     "execution_count": 4,
     "metadata": {},
     "output_type": "execute_result"
    }
   ],
   "source": [
    "b = torch.randn_like(a)\n",
    "b.shape"
   ]
  },
  {
   "cell_type": "code",
   "execution_count": 5,
   "metadata": {},
   "outputs": [
    {
     "name": "stdout",
     "output_type": "stream",
     "text": [
      "tensor([0., 0., 0., 0., 0., 0., 0., 0., 0., 0., 0., 0., 0., 0., 0., 0., 0., 0., 0., 0., 0., 0., 0., 0.,\n",
      "        0., 0., 0., 0., 0., 0., 0., 0., 0., 0., 0., 0., 0., 0., 0., 0., 0., 0., 0., 0., 0., 0., 0., 0.,\n",
      "        0., 0., 0., 0., 0., 0., 0., 0., 0., 0., 0., 0., 0., 0., 0., 0.])\n",
      "tensor([-0.3043, -2.1447, -1.1967,  0.7391,  0.7264,  0.5041, -1.2047,  0.6625,\n",
      "        -0.3562,  0.1752,  0.0871,  0.4264,  0.9520,  0.6829, -0.5091, -0.3639,\n",
      "        -1.3440,  0.5079,  1.2949, -0.6385,  0.0190, -0.0436,  0.2779, -1.2750,\n",
      "         0.6649, -0.1118,  0.6051, -0.2045, -0.4577, -0.8367, -0.4609, -0.4089,\n",
      "         0.6962,  0.1048, -1.7655, -0.3523,  0.2588, -0.8018, -0.7126,  0.7609,\n",
      "        -0.2996,  0.9647,  0.2689,  0.1446,  0.9836,  1.3639, -0.6004, -0.5240,\n",
      "         0.0595, -1.0670,  0.2078,  1.4743,  0.1996,  0.7375,  0.1414, -0.9752,\n",
      "         0.8617, -0.1410,  0.0247, -0.2302,  0.2140, -0.3705, -2.2080,  0.9017])\n"
     ]
    }
   ],
   "source": [
    "print(a)\n",
    "print(b)"
   ]
  },
  {
   "cell_type": "code",
   "execution_count": 1,
   "metadata": {},
   "outputs": [
    {
     "ename": "TypeError",
     "evalue": "'NoneType' object is not iterable",
     "output_type": "error",
     "traceback": [
      "\u001b[0;31m---------------------------------------------------------------------------\u001b[0m",
      "\u001b[0;31mTypeError\u001b[0m                                 Traceback (most recent call last)",
      "Cell \u001b[0;32mIn[1], line 1\u001b[0m\n\u001b[0;32m----> 1\u001b[0m \u001b[38;5;28;01mfor\u001b[39;00m a \u001b[38;5;129;01min\u001b[39;00m \u001b[38;5;28;01mNone\u001b[39;00m:\n\u001b[1;32m      2\u001b[0m     \u001b[38;5;28mprint\u001b[39m(a)\n",
      "\u001b[0;31mTypeError\u001b[0m: 'NoneType' object is not iterable"
     ]
    }
   ],
   "source": [
    "for a in None:\n",
    "    print(a)"
   ]
  },
  {
   "cell_type": "code",
   "execution_count": null,
   "metadata": {},
   "outputs": [],
   "source": [
    "hyper_grid = {\n",
    "    \"lr\": [1e-3, 1e-4],\n",
    "    \"clr\": [1e-5],\n",
    "    \"num_layers\": [3, 4],\n",
    "    \"hidden_dim\": [32, 64],\n",
    "    \"optimizer\": ['adamwschedulefree'],\n",
    "    \"n_context\": [1, 4, 8],\n",
    "    \"dropout\": [0.5],\n",
    "    \"inner_episodes\": [10],\n",
    "    \"outer_episodes\": [50],\n",
    "    \"n_mvalid\": [1, 6, 16],\n",
    "    \"sencoder_layer\" : [\"max\", \"pma\", \"mean\"] # \"sum\", \"max\", \"pma\", \"mean\"\n",
    "}\n",
    "\n",
    "hyper_map = {\n",
    "        i+72: {\n",
    "            \"lr\": lr,\n",
    "            \"clr\": clr,\n",
    "            \"num_layers\": num_layers,\n",
    "            \"hidden_dim\": hidden_dim,\n",
    "            \"optimizer\": optimizer,\n",
    "            \"n_context\": n_context,\n",
    "            \"dropout\": dropout,\n",
    "            \"inner_episodes\": inner_episodes,\n",
    "            \"outer_episodes\": outer_episodes,\n",
    "            \"n_mvalid\":n_mvalid,\n",
    "            \"sencoder_layer\":sencoder_layer,\n",
    "        } for i, (lr, clr, num_layers, hidden_dim, optimizer, n_context, dropout, inner_episodes, outer_episodes, n_mvalid, sencoder_layer) \\\n",
    "                in enumerate(itertools.product(*[hyper_grid[k] for k in hyper_grid.keys()]))\n",
    "}"
   ]
  }
 ],
 "metadata": {
  "kernelspec": {
   "display_name": "drug",
   "language": "python",
   "name": "python3"
  },
  "language_info": {
   "codemirror_mode": {
    "name": "ipython",
    "version": 3
   },
   "file_extension": ".py",
   "mimetype": "text/x-python",
   "name": "python",
   "nbconvert_exporter": "python",
   "pygments_lexer": "ipython3",
   "version": "3.9.21"
  }
 },
 "nbformat": 4,
 "nbformat_minor": 2
}
